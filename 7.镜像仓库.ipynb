{
 "cells": [
  {
   "cell_type": "markdown",
   "metadata": {},
   "source": [
    "1） docker login:登录到一个docker镜像仓库，如果未指定镜像仓库地址，默认为官方仓库Docker Hub\n",
    " \n",
    "docker logout：登出一个docker镜像仓库，如果未指定镜像仓库地址，默认为官方仓库Docker Hub\n",
    "\n",
    "语法：\n",
    "\n",
    "docker login [options] [server]\n",
    "\n",
    "docker logout [options] [server]\n",
    "\n",
    "options说明：\n",
    "\n",
    "-u：登录的用户名\n",
    "\n",
    "-p：登录的密码\n",
    "\n",
    "实例：\n",
    "\n",
    "docker login -u 用户名 -p 密码  #登录到Docker Hub\n",
    "\n",
    "docker logout #登出Docker Hub\n",
    "\n",
    "2）docker pull:从镜像仓库中拉取或更新指定镜像\n",
    "\n",
    "语法：\n",
    "\n",
    "docker pull [options] name[:tag|@digest]\n",
    "\n",
    "options说明：\n",
    "\n",
    "-a：拉取所有tagged镜像\n",
    "\n",
    "--disable-content-trust:忽略镜像的校验，默认开启\n",
    "\n",
    "实例：\n",
    "\n",
    "docker pull java #从Docker Hub下载java最新版镜像\n",
    "\n",
    "docker pull -a java #从Docker Hub下载repository为java的所有镜像\n",
    "\n",
    "3）docker search:从Docker Hub查找镜像\n",
    "\n",
    "语法：\n",
    "\n",
    "docker search [options] term\n",
    "\n",
    "options说明：\n",
    "\n",
    "--automated：只列出automated build类型的镜像\n",
    "\n",
    "--no-trunc:显示完整的镜像描述\n",
    "\n",
    "-s：列出收藏数不小于指定值的镜像\n",
    "\n",
    "实例：\n",
    "\n",
    "docker search -s 10 java #从Docker Hub查找所有镜像名包含java，并且收藏数大于10的镜像"
   ]
  }
 ],
 "metadata": {
  "kernelspec": {
   "display_name": "Python 3",
   "language": "python",
   "name": "python3"
  },
  "language_info": {
   "codemirror_mode": {
    "name": "ipython",
    "version": 3
   },
   "file_extension": ".py",
   "mimetype": "text/x-python",
   "name": "python",
   "nbconvert_exporter": "python",
   "pygments_lexer": "ipython3",
   "version": "3.7.0"
  }
 },
 "nbformat": 4,
 "nbformat_minor": 2
}
