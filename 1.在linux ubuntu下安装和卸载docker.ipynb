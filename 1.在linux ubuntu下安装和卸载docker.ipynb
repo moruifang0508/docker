{
 "cells": [
  {
   "cell_type": "markdown",
   "metadata": {},
   "source": [
    "## 1 前提条件\n",
    "\n",
    "docker要求ubuntu系统的内核版本高于3.10,可以通过如下命令查看：\n",
    "\n",
    "uname -r  #返回：4.15.0-46-generic"
   ]
  },
  {
   "cell_type": "markdown",
   "metadata": {},
   "source": [
    "## 2 使用脚本安装cocker\n",
    "\n",
    "1）获取最新的安装包并安装\n",
    "\n",
    "wget -qO- https://get.docker.com/ | sh #这个O不是零而是大写的o\n",
    "\n",
    "输入当前用户名的密码后，会自动安装\n",
    "\n",
    "如果安装成功后重启电脑，可以直接用docker命令，以下步骤2）和3）都可以忽略\n",
    "\n",
    "2）当要以非root用户可以直接运行docker时，需要先执行以下命令：\n",
    "\n",
    "sudo usermod -aG docker lyc  #lyc为本机当前用户名，需要改为自己的当前用户名\n",
    "\n",
    "然后退出再重新登陆，否则会有如下报错：\n",
    "\n",
    "lyc: docker $ docker run helloworld\n",
    "\n",
    "docker: Got permission denied while trying to connect to the Docker daemon socket at unix:///var\n",
    "\n",
    "/run/docker.sock: Post http://%2Fvar%2Frun%2Fdocker.sock/v1.39/containers/create: dial unix /var/run\n",
    "\n",
    "/docker.sock: connect: permission denied.\n",
    "\n",
    "See 'docker run --help'.\n",
    "\n",
    "\n",
    "3) 启动docker后台服务\n",
    "\n",
    "sudo service docker start\n",
    "\n",
    "4）测试运行hello-world\n",
    "\n",
    "docker run hello-world\n",
    "\n",
    "hello-world是一个应用程序，或者称为镜像，第一次运行时，会发现本地仓库没有，会自动到官网下载到本地仓库中，然后运行，下次使用直接从本地仓库调用。如果返回如下提示，说明安装成功：\n",
    "\n",
    "hello from Docker！\n",
    "\n",
    "5）镜像加速（此步骤本人没有成功，在/etc/docker/文件夹下没有文件daemon.json，先创建一个同名文件，然后在文件中添加下面的内容，但是保存时提示错误，不保存才能退出，文件daemon.json也没有创建成功）。\n",
    "\n",
    "由于国内网络问题，后续拉取Docker镜像十分缓慢，可以换成国内的镜像地址，如网易：http://hub-mirror.c.163.com。\n",
    "\n",
    "在linux中配置文件Daemon在如下路径：/etc/docker/daemon.json,如果没有，需要先建一个，然后修改或添加如下内容：\n",
    "\n",
    "{\n",
    "\n",
    "  \"registry-mirrors\": [\"http://hub-mirror.c.163.com\"]\n",
    "  \n",
    "}"
   ]
  }
 ],
 "metadata": {
  "kernelspec": {
   "display_name": "Python 3",
   "language": "python",
   "name": "python3"
  },
  "language_info": {
   "codemirror_mode": {
    "name": "ipython",
    "version": 3
   },
   "file_extension": ".py",
   "mimetype": "text/x-python",
   "name": "python",
   "nbconvert_exporter": "python",
   "pygments_lexer": "ipython3",
   "version": "3.7.0"
  }
 },
 "nbformat": 4,
 "nbformat_minor": 2
}
