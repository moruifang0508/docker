{
 "cells": [
  {
   "cell_type": "markdown",
   "metadata": {},
   "source": [
    "1)docker info:显示docker系统信息，包括镜像和容器数\n",
    "\n",
    "语法：\n",
    "\n",
    "docker info [options]\n",
    "\n",
    "实例\n",
    "\n",
    "docker info  #查看docker系统信息\n",
    "\n",
    "2）docker version:显示docker版本信\n",
    "\n",
    "options说明：\n",
    "\n",
    "-f:指定返回值的模板文件\n",
    "\n",
    "实例：\n",
    "\n",
    "docker version #显示docker版本信息"
   ]
  }
 ],
 "metadata": {
  "kernelspec": {
   "display_name": "Python 3",
   "language": "python",
   "name": "python3"
  },
  "language_info": {
   "codemirror_mode": {
    "name": "ipython",
    "version": 3
   },
   "file_extension": ".py",
   "mimetype": "text/x-python",
   "name": "python",
   "nbconvert_exporter": "python",
   "pygments_lexer": "ipython3",
   "version": "3.7.0"
  }
 },
 "nbformat": 4,
 "nbformat_minor": 2
}
