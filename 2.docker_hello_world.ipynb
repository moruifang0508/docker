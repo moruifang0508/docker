{
 "cells": [
  {
   "cell_type": "markdown",
   "metadata": {},
   "source": [
    "docker相当于一个容器，可以在容器内运行各种应用程序，程序也称为镜像，使用docker run命令来运行，docker首先从本地主机上查找镜像是否存在，如果不存在，doccker会从镜像仓库Docker Hub中下载公共镜像。如：\n",
    "\n",
    "docker run ubuntu:15.10 /bin/echo \"hello world\"\n",
    "\n",
    "各个参数解析：\n",
    "\n",
    "docker：docker的二进制执行文件\n",
    "\n",
    "run：与前面的docker组合来运行一个容器\n",
    "\n",
    "ubuntu：15.10 ：要运行的镜像\n",
    "\n",
    "/bin/echo \"hello world\" :在启动的容器里执行的命令，相当于运行文件/bin/echo，给文件传入字符串\"hello world\",然后输出结果\n",
    "\n",
    "以上的完整意思为：docker以ubuntu 15.10镜像创建一个新容器，然后在容器里执行bin/echo \"hello world\",然后输出结果"
   ]
  },
  {
   "cell_type": "markdown",
   "metadata": {},
   "source": [
    "## 运行交互式的容器\n",
    "\n",
    "可以通过两个参数-i -t，让docker运行的容器实现“对话”的能力，然后就可以使用linux下的命令，可以使用exit或ctrl+D退出\n",
    "\n",
    "\n",
    "lyc: docker $ docker run -i -t ubuntu:16.04 /bin/bash\n",
    "\n",
    "root@9dba33e21e15:/# \n",
    "\n",
    "bin   dev  home  lib64  mnt  proc  run   srv  tmp  var\n",
    "\n",
    "boot  etc  lib   media  opt  root  sbin  sys  usr\n",
    "\n",
    "root@9dba33e21e15:/# exit\n",
    "\n",
    "exit\n",
    "\n",
    "lyc: docker $ \n",
    "\n",
    "各个参数解析：\n",
    "\n",
    "-t:在新容器内指定一个伪终端或终端\n",
    "\n",
    "-i：允许你对容器内的标准输入(STDIN)进行交互"
   ]
  },
  {
   "cell_type": "markdown",
   "metadata": {},
   "source": [
    "直接输入docker命令来查看所有选项命令\n",
    "\n",
    "lyc: ~ $ docker\n",
    "\n",
    "可以使用docker command --help查看某个命令的用法\n",
    "\n",
    "lyc: ~ $ docker search --help"
   ]
  },
  {
   "cell_type": "markdown",
   "metadata": {},
   "source": [
    "## 启动容器(后台模式)\n",
    "\n",
    "使用以下命令创建一个以进程方式运行的容器：\n",
    "\n",
    "docker run -d ubuntu:15.10 /bin/sh -C \"while true; do echo hello world; sleep 1; done\"\n",
    "\n",
    "返回：2b1b7a428627c51ab8810d541d759f072b4fc75487eed05812646b8534a2fe63\n",
    "\n",
    "返回值中没有看到“hello world”，因为-d为后台运行模式，而是一串长字符，这个长字符叫做容器id，对每个容器来说都是唯一的，可以通过容器id查看对应的容器发生了什么。首先，可以通过docker ps来查看容器的情况：\n",
    "\n",
    "docker ps\n",
    "\n",
    "返回值中container id为容器id，names为自动分配的容器名称。\n",
    "\n",
    "可以使用docker logs命令，查看容器内的标准输出：\n",
    "\n",
    "docker logs 2b1b7a428627 #可以使用container id\n",
    "\n",
    "docker logs amazing_cori #也可以使用names\n",
    "\n",
    "此时返回值中就看可以看到\"hello world\""
   ]
  }
 ],
 "metadata": {
  "kernelspec": {
   "display_name": "Python 3",
   "language": "python",
   "name": "python3"
  },
  "language_info": {
   "codemirror_mode": {
    "name": "ipython",
    "version": 3
   },
   "file_extension": ".py",
   "mimetype": "text/x-python",
   "name": "python",
   "nbconvert_exporter": "python",
   "pygments_lexer": "ipython3",
   "version": "3.7.0"
  }
 },
 "nbformat": 4,
 "nbformat_minor": 2
}
